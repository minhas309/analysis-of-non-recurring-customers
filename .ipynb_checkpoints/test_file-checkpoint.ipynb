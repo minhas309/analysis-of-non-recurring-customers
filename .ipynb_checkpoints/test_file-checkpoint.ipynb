{
 "cells": [
  {
   "cell_type": "code",
   "execution_count": 145,
   "id": "3c397265",
   "metadata": {},
   "outputs": [],
   "source": [
    "import pandas as pd\n",
    "\n",
    "def createDataSet():\n",
    "    file_path = 'data/electronics.json'\n",
    "\n",
    "    try:\n",
    "        df = pd.read_json(file_path)\n",
    "        return df\n",
    "    except FileNotFoundError:\n",
    "        print(f\"File not found: {file_path}\")\n",
    "        return None\n",
    "    except Exception as e:\n",
    "        print(f\"Error reading JSON file: {e}\")\n",
    "        return None\n",
    "    \n",
    "df = createDataSet()"
   ]
  },
  {
   "cell_type": "code",
   "execution_count": 146,
   "id": "efacc3b8",
   "metadata": {},
   "outputs": [],
   "source": [
    "# Define the values to be considered as invalid\n",
    "invalid_values = ['', 'Hidden']\n",
    "\n",
    "#Columns to change data types\n",
    "columns = ['Year', 'Month', 'Age', 'Gender']\n",
    "\n",
    "df[columns] = df[columns].replace(invalid_values, pd.NA).fillna(method='ffill')"
   ]
  },
  {
   "cell_type": "code",
   "execution_count": 138,
   "id": "2373ef40",
   "metadata": {},
   "outputs": [],
   "source": [
    "df['Purchase_Date'] = df['Purchase_Date'].dropna()"
   ]
  },
  {
   "cell_type": "code",
   "execution_count": 139,
   "id": "85e0f721",
   "metadata": {},
   "outputs": [],
   "source": [
    "# Convert 'Purchase_Date' column to datetime format, handling errors\n",
    "df['Purchase_Date'] = pd.to_datetime(df['Purchase_Date'], errors='coerce')\n",
    "df.dropna(subset=['Purchase_Date'], inplace=True)"
   ]
  },
  {
   "cell_type": "code",
   "execution_count": 140,
   "id": "e807a364",
   "metadata": {},
   "outputs": [],
   "source": [
    "# Create a boolean mask for rows containing invalid values in any of the specified columns\n",
    "mask = df[['Product_ID', 'Product_Category', 'Brand']].isin(invalid_values).any(axis=1)\n",
    "\n",
    "# Drop rows based on the boolean mask\n",
    "df = df[~mask]"
   ]
  },
  {
   "cell_type": "code",
   "execution_count": 141,
   "id": "bb9ae778",
   "metadata": {},
   "outputs": [],
   "source": [
    "#Conver Following Columns to neumaric values\n",
    "columns = ['Purchase_Amount', 'Average_Spending_Per_Purchase', 'Purchase_Frequency_Per_Month', 'Brand_Affinity_Score']\n",
    "# Convert invalid values to NaN\n",
    "df[columns] = df[columns].replace(invalid_values, pd.NA)\n",
    "\n",
    "# Convert specified columns to numeric\n",
    "df[columns] = df[columns].apply(pd.to_numeric, errors='coerce')\n",
    "\n",
    "#calculate medians\n",
    "medians = df[columns].median()\n",
    "\n",
    "df[columns] = df[columns].fillna(medians)"
   ]
  },
  {
   "cell_type": "code",
   "execution_count": 142,
   "id": "dc0cabc8",
   "metadata": {},
   "outputs": [
    {
     "data": {
      "text/html": [
       "<div>\n",
       "<style scoped>\n",
       "    .dataframe tbody tr th:only-of-type {\n",
       "        vertical-align: middle;\n",
       "    }\n",
       "\n",
       "    .dataframe tbody tr th {\n",
       "        vertical-align: top;\n",
       "    }\n",
       "\n",
       "    .dataframe thead th {\n",
       "        text-align: right;\n",
       "    }\n",
       "</style>\n",
       "<table border=\"1\" class=\"dataframe\">\n",
       "  <thead>\n",
       "    <tr style=\"text-align: right;\">\n",
       "      <th></th>\n",
       "      <th>Age</th>\n",
       "      <th>Purchase_Amount</th>\n",
       "      <th>Average_Spending_Per_Purchase</th>\n",
       "      <th>Purchase_Frequency_Per_Month</th>\n",
       "      <th>Brand_Affinity_Score</th>\n",
       "    </tr>\n",
       "  </thead>\n",
       "  <tbody>\n",
       "    <tr>\n",
       "      <th>count</th>\n",
       "      <td>801.000000</td>\n",
       "      <td>801.000000</td>\n",
       "      <td>801.000000</td>\n",
       "      <td>801.000000</td>\n",
       "      <td>801.000000</td>\n",
       "    </tr>\n",
       "    <tr>\n",
       "      <th>mean</th>\n",
       "      <td>49.594257</td>\n",
       "      <td>248.775281</td>\n",
       "      <td>52.204744</td>\n",
       "      <td>5.461923</td>\n",
       "      <td>5.337079</td>\n",
       "    </tr>\n",
       "    <tr>\n",
       "      <th>std</th>\n",
       "      <td>18.281108</td>\n",
       "      <td>137.820715</td>\n",
       "      <td>26.688444</td>\n",
       "      <td>2.771527</td>\n",
       "      <td>2.775560</td>\n",
       "    </tr>\n",
       "    <tr>\n",
       "      <th>min</th>\n",
       "      <td>18.000000</td>\n",
       "      <td>10.000000</td>\n",
       "      <td>5.000000</td>\n",
       "      <td>1.000000</td>\n",
       "      <td>1.000000</td>\n",
       "    </tr>\n",
       "    <tr>\n",
       "      <th>25%</th>\n",
       "      <td>34.000000</td>\n",
       "      <td>135.000000</td>\n",
       "      <td>30.000000</td>\n",
       "      <td>3.000000</td>\n",
       "      <td>3.000000</td>\n",
       "    </tr>\n",
       "    <tr>\n",
       "      <th>50%</th>\n",
       "      <td>50.000000</td>\n",
       "      <td>239.000000</td>\n",
       "      <td>50.000000</td>\n",
       "      <td>5.000000</td>\n",
       "      <td>5.000000</td>\n",
       "    </tr>\n",
       "    <tr>\n",
       "      <th>75%</th>\n",
       "      <td>66.000000</td>\n",
       "      <td>367.000000</td>\n",
       "      <td>74.000000</td>\n",
       "      <td>8.000000</td>\n",
       "      <td>8.000000</td>\n",
       "    </tr>\n",
       "    <tr>\n",
       "      <th>max</th>\n",
       "      <td>80.000000</td>\n",
       "      <td>500.000000</td>\n",
       "      <td>100.000000</td>\n",
       "      <td>10.000000</td>\n",
       "      <td>10.000000</td>\n",
       "    </tr>\n",
       "  </tbody>\n",
       "</table>\n",
       "</div>"
      ],
      "text/plain": [
       "              Age  Purchase_Amount  Average_Spending_Per_Purchase  \\\n",
       "count  801.000000       801.000000                     801.000000   \n",
       "mean    49.594257       248.775281                      52.204744   \n",
       "std     18.281108       137.820715                      26.688444   \n",
       "min     18.000000        10.000000                       5.000000   \n",
       "25%     34.000000       135.000000                      30.000000   \n",
       "50%     50.000000       239.000000                      50.000000   \n",
       "75%     66.000000       367.000000                      74.000000   \n",
       "max     80.000000       500.000000                     100.000000   \n",
       "\n",
       "       Purchase_Frequency_Per_Month  Brand_Affinity_Score  \n",
       "count                    801.000000            801.000000  \n",
       "mean                       5.461923              5.337079  \n",
       "std                        2.771527              2.775560  \n",
       "min                        1.000000              1.000000  \n",
       "25%                        3.000000              3.000000  \n",
       "50%                        5.000000              5.000000  \n",
       "75%                        8.000000              8.000000  \n",
       "max                       10.000000             10.000000  "
      ]
     },
     "execution_count": 142,
     "metadata": {},
     "output_type": "execute_result"
    }
   ],
   "source": [
    "df.describe()"
   ]
  },
  {
   "cell_type": "code",
   "execution_count": 143,
   "id": "6dafd6b6",
   "metadata": {},
   "outputs": [
    {
     "data": {
      "text/plain": [
       "239.0"
      ]
     },
     "execution_count": 143,
     "metadata": {},
     "output_type": "execute_result"
    }
   ],
   "source": [
    "df.Purchase_Amount.median()"
   ]
  },
  {
   "cell_type": "code",
   "execution_count": 147,
   "id": "ad4683b0",
   "metadata": {},
   "outputs": [],
   "source": [
    "df.to_csv('cleaned/data.csv')"
   ]
  },
  {
   "cell_type": "code",
   "execution_count": null,
   "id": "76e07a4d",
   "metadata": {},
   "outputs": [],
   "source": []
  }
 ],
 "metadata": {
  "kernelspec": {
   "display_name": "Python 3 (ipykernel)",
   "language": "python",
   "name": "python3"
  },
  "language_info": {
   "codemirror_mode": {
    "name": "ipython",
    "version": 3
   },
   "file_extension": ".py",
   "mimetype": "text/x-python",
   "name": "python",
   "nbconvert_exporter": "python",
   "pygments_lexer": "ipython3",
   "version": "3.11.4"
  }
 },
 "nbformat": 4,
 "nbformat_minor": 5
}
